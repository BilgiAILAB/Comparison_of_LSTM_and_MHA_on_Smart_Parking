{
 "cells": [
  {
   "cell_type": "markdown",
   "metadata": {},
   "source": [
    "## Necessary Imports"
   ]
  },
  {
   "cell_type": "code",
   "execution_count": null,
   "metadata": {},
   "outputs": [],
   "source": [
    "import pandas as pd\n",
    "import numpy as np\n",
    "from numpy import array\n",
    "import tensorflow as tf\n",
    "import tensorflow.keras as keras\n",
    "import os\n",
    "from datetime import time\n",
    "from tqdm.notebook import tqdm, trange\n",
    "from sklearn.metrics import mean_absolute_error\n",
    "from datetime import datetime"
   ]
  },
  {
   "cell_type": "markdown",
   "metadata": {},
   "source": [
    "## Reading Data"
   ]
  },
  {
   "cell_type": "code",
   "execution_count": null,
   "metadata": {},
   "outputs": [],
   "source": [
    "file_list = os.listdir(\"dataset/\")\n",
    "try:\n",
    "    file_list.remove('.DS_Store')\n",
    "except:\n",
    "    pass"
   ]
  },
  {
   "cell_type": "code",
   "execution_count": null,
   "metadata": {},
   "outputs": [],
   "source": [
    "file_names = []\n",
    "cultural_event_set = set()\n",
    "wind_set = set()\n",
    "cond_set = set()\n",
    "for file in file_list:\n",
    "    if file.find(\"weather\") == -1:\n",
    "        name = file.split('_')[0].lower()\n",
    "        file_names.append(name)\n",
    "        exec(f\"{name} = pd.read_pickle('dataset/{file}')\")\n",
    "        exec(f\"{name}.fillna(0,inplace=True)\")\n",
    "        exec(f\"{name} = {name}.replace([''],0)\")\n",
    "        exec(f\"{name}_cult = {name}['Cultural_event_type'].unique()\")\n",
    "        exec(f\"{name}_wind = {name}['Wind'].unique()\")\n",
    "        exec(f\"{name}_condition = {name}['Condition'].unique()\")\n",
    "        for val in eval(f\"{name}_cult\"):\n",
    "            cultural_event_set.add(val)\n",
    "        for val in eval(f\"{name}_wind\"):\n",
    "            wind_set.add(val)\n",
    "        for val in eval(f\"{name}_condition\"):\n",
    "            cond_set.add(val)"
   ]
  },
  {
   "cell_type": "markdown",
   "metadata": {},
   "source": [
    "## Preprocess Data"
   ]
  },
  {
   "cell_type": "code",
   "execution_count": null,
   "metadata": {},
   "outputs": [],
   "source": [
    "cult2id = {}\n",
    "for _id,file in enumerate(cultural_event_set):\n",
    "    cult2id[file] = _id\n",
    "id2cult = {val:key for key,val in cult2id.items()}"
   ]
  },
  {
   "cell_type": "code",
   "execution_count": null,
   "metadata": {},
   "outputs": [],
   "source": [
    "cult2id, id2cult"
   ]
  },
  {
   "cell_type": "code",
   "execution_count": null,
   "metadata": {},
   "outputs": [],
   "source": [
    "for file in tqdm(file_names):\n",
    "    exec(f\"{file}['Cultural_event_type'] = [cult2id[el] for el in {file}['Cultural_event_type'].values]\")\n",
    "    exec(f\"{file} = {file}[{file}['Time'] <= datetime(2014,11,1)][{file}['Time'] >= datetime(2014,8,1)]\")\n",
    "    exec(f\"{file}.reset_index(inplace=True, drop=True)\")\n",
    "    exec(f\"{file}['Pressure'] = {file}['Pressure'].values/100\")"
   ]
  },
  {
   "cell_type": "markdown",
   "metadata": {},
   "source": [
    "## Create Train and Test Datasets"
   ]
  },
  {
   "cell_type": "code",
   "execution_count": null,
   "metadata": {},
   "outputs": [],
   "source": [
    "train_set = []\n",
    "test_set = []\n",
    "test_names = []\n",
    "lot_size = []\n",
    "for file in tqdm(file_names):\n",
    "    exec(f\"{file}_values = {file}[['parking_lot_count', 'empty', 'Average Speed','Vehicle Count', 'Dew Point','Humidity','Temperature','Wind Speed', 'Pressure','Library_event_price','Library_event','Cultural_event','Cultural_event_type']].values.tolist()\")\n",
    "    \n",
    "    for i in range(1800):\n",
    "        val = list(eval(f\"{file}_values[i]\"))\n",
    "        train_set.append(val)\n",
    "    for i in range(1800,2023):\n",
    "        val = list(eval(f\"{file}_values[i]\"))\n",
    "        lot_size.append(val[0]+val[1])\n",
    "        test_set.append(val)\n",
    "        test_names.append(file)"
   ]
  },
  {
   "cell_type": "code",
   "execution_count": null,
   "metadata": {},
   "outputs": [],
   "source": [
    "train_set = np.array(train_set,dtype=np.int32)\n",
    "test_set = np.array(test_set,dtype=np.int32)"
   ]
  },
  {
   "cell_type": "code",
   "execution_count": null,
   "metadata": {},
   "outputs": [],
   "source": [
    "train_set.shape, test_set.shape"
   ]
  },
  {
   "cell_type": "markdown",
   "metadata": {},
   "source": [
    "## Reshape data as a Time Series Data"
   ]
  },
  {
   "cell_type": "code",
   "execution_count": null,
   "metadata": {},
   "outputs": [],
   "source": [
    "def split_sequence(sequence, n_steps):\n",
    "\tX, y = list(), list()\n",
    "\tfor i in range(len(sequence)):\n",
    "\t\t# find the end of this pattern\n",
    "\t\tend_ix = i + n_steps\n",
    "\t\t# check if we are beyond the sequence\n",
    "\t\tif end_ix > len(sequence)-1:\n",
    "\t\t\tbreak\n",
    "\t\t# gather input and output parts of the pattern\n",
    "\t\tseq_x, seq_y = sequence[i:end_ix], sequence[end_ix]\n",
    "\t\tX.append(seq_x)\n",
    "\t\ty.append(seq_y)\n",
    "\treturn array(X), array(y)\n",
    "n_package = 1\n",
    "X_train, y_train = split_sequence(train_set, n_package)\n",
    "X_test, y_test = split_sequence(test_set, n_package)"
   ]
  },
  {
   "cell_type": "markdown",
   "metadata": {},
   "source": [
    "## Create Models"
   ]
  },
  {
   "cell_type": "code",
   "execution_count": null,
   "metadata": {},
   "outputs": [],
   "source": [
    "def create_SOTA_lstm(lstm_depth, lstm_act, dense_act,train_shape):\n",
    "    input_layer = tf.keras.layers.Input(shape=(n_package,train_shape[2],), name='input_layer')\n",
    "    lstm_layer = tf.keras.layers.LSTM(lstm_depth,activation=lstm_act)(input_layer)\n",
    "    X = tf.keras.layers.Dense(1,activation=dense_act)(lstm_layer)\n",
    "    model = tf.keras.Model(inputs=input_layer, outputs = X)\n",
    "\n",
    "    model.compile(optimizer=keras.optimizers.Adam(),\n",
    "                       loss=keras.losses.MeanAbsoluteError(),\n",
    "                       metrics=['accuracy','mae'])\n",
    "    return model"
   ]
  },
  {
   "cell_type": "code",
   "execution_count": null,
   "metadata": {},
   "outputs": [],
   "source": [
    "def create_mattention_model(att_1, att_2, dense1_act, dense2_act, train_shape):\n",
    "    input_layer = tf.keras.layers.Input(shape=(n_package,train_shape[2],), name='input_layer')\n",
    "    dense1 = tf.keras.layers.Dense(train_shape[2],activation=dense1_act)(input_layer)\n",
    "    attention = tf.keras.layers.MultiHeadAttention(att_1,att_2)(dense1, input_layer)\n",
    "    X = tf.keras.layers.Dense(1,activation=dense2_act)(attention)\n",
    "    model = tf.keras.Model(inputs=input_layer, outputs = X)\n",
    "\n",
    "    model.compile(optimizer=keras.optimizers.Adam(),\n",
    "                       loss=keras.losses.MeanAbsoluteError(),\n",
    "                       metrics=['accuracy'])\n",
    "    return model"
   ]
  },
  {
   "cell_type": "markdown",
   "metadata": {},
   "source": [
    "## Train and Test"
   ]
  },
  {
   "cell_type": "code",
   "execution_count": null,
   "metadata": {},
   "outputs": [],
   "source": [
    "rate_y_test = []\n",
    "for i in range(len(y_test[::, 0])):\n",
    "    rate_y_test.append(y_test[::, 0][i] / lot_size[i])"
   ]
  },
  {
   "cell_type": "code",
   "execution_count": null,
   "metadata": {},
   "outputs": [],
   "source": [
    "model = create_mattention_model(8,1,None,'elu',X_train.shape)\n",
    "model.summary()\n",
    "model.fit(X_train, y_train[::,0], epochs=10, batch_size = 32, verbose=0)\n",
    "y_pred_mha = model.predict(X_test)\n",
    "mae_mha = mean_absolute_error(y_test[::, 0], y_pred_mha.flatten())\n",
    "rate_mha = []\n",
    "for i in range(len(y_pred_mha.flatten())):\n",
    "    rate_mha.append(y_pred_mha.flatten()[i] / lot_size[i])\n",
    "mha_rate_mae = mean_absolute_error(rate_y_test, rate_mha)"
   ]
  },
  {
   "cell_type": "code",
   "execution_count": null,
   "metadata": {},
   "outputs": [],
   "source": [
    "model_lstm = create_SOTA_lstm(128,'elu','elu',X_train.shape)\n",
    "model_lstm.summary()\n",
    "model_lstm.fit(X_train, y_train[::,0], epochs=10, batch_size = 32, verbose=0)\n",
    "y_pred_lstm = model_lstm.predict(X_test)\n",
    "mae_lstm = mean_absolute_error(y_test[::, 0], y_pred_lstm.flatten())\n",
    "rate_lstm = []\n",
    "for i in range(len(y_pred_lstm.flatten())):\n",
    "    rate_lstm.append(y_pred_lstm.flatten()[i] / lot_size[i])\n",
    "lstm_rate_mae = mean_absolute_error(rate_y_test, rate_lstm)"
   ]
  },
  {
   "cell_type": "code",
   "execution_count": null,
   "metadata": {},
   "outputs": [],
   "source": [
    "mae_mha, mha_rate_mae"
   ]
  },
  {
   "cell_type": "code",
   "execution_count": null,
   "metadata": {},
   "outputs": [],
   "source": [
    "mae_lstm, lstm_rate_mae"
   ]
  }
 ],
 "metadata": {
  "kernelspec": {
   "display_name": "Python 3",
   "language": "python",
   "name": "python3"
  },
  "language_info": {
   "codemirror_mode": {
    "name": "ipython",
    "version": 3
   },
   "file_extension": ".py",
   "mimetype": "text/x-python",
   "name": "python",
   "nbconvert_exporter": "python",
   "pygments_lexer": "ipython3",
   "version": "3.8.7"
  },
  "widgets": {
   "application/vnd.jupyter.widget-state+json": {
    "state": {
     "0525cdc0c9f74e798ca2b4d947e7d30e": {
      "model_module": "@jupyter-widgets/base",
      "model_module_version": "1.2.0",
      "model_name": "LayoutModel",
      "state": {}
     },
     "0af38e47ade24403aecc99febf8772f5": {
      "model_module": "@jupyter-widgets/controls",
      "model_module_version": "1.5.0",
      "model_name": "DescriptionStyleModel",
      "state": {
       "description_width": ""
      }
     },
     "0f834db01b0b47689cbbf9bc32985f08": {
      "model_module": "@jupyter-widgets/base",
      "model_module_version": "1.2.0",
      "model_name": "LayoutModel",
      "state": {}
     },
     "11fe02e00e034e19b01d828e9938bfdf": {
      "model_module": "@jupyter-widgets/controls",
      "model_module_version": "1.5.0",
      "model_name": "ProgressStyleModel",
      "state": {
       "description_width": "initial"
      }
     },
     "143b7e1fea034985b23e8d655f06c8c3": {
      "model_module": "@jupyter-widgets/controls",
      "model_module_version": "1.5.0",
      "model_name": "ProgressStyleModel",
      "state": {
       "description_width": "initial"
      }
     },
     "17036b0407ef461394c6ffbd89229665": {
      "model_module": "@jupyter-widgets/base",
      "model_module_version": "1.2.0",
      "model_name": "LayoutModel",
      "state": {}
     },
     "1de5163de3d4477ba7f2c6ea6526292e": {
      "model_module": "@jupyter-widgets/base",
      "model_module_version": "1.2.0",
      "model_name": "LayoutModel",
      "state": {}
     },
     "1f781cf3d849415795fd67f88fea2c50": {
      "model_module": "@jupyter-widgets/base",
      "model_module_version": "1.2.0",
      "model_name": "LayoutModel",
      "state": {}
     },
     "22ba72b91237446ab2f7c95b9c487e39": {
      "model_module": "@jupyter-widgets/controls",
      "model_module_version": "1.5.0",
      "model_name": "DescriptionStyleModel",
      "state": {
       "description_width": ""
      }
     },
     "2fc7ef48060347e3b12b1e2408089c49": {
      "model_module": "@jupyter-widgets/controls",
      "model_module_version": "1.5.0",
      "model_name": "ProgressStyleModel",
      "state": {
       "description_width": "initial"
      }
     },
     "319681983fb849f49b1704dba8a2bc93": {
      "model_module": "@jupyter-widgets/base",
      "model_module_version": "1.2.0",
      "model_name": "LayoutModel",
      "state": {}
     },
     "37f69b68442848178c9fabf3b78dc524": {
      "model_module": "@jupyter-widgets/controls",
      "model_module_version": "1.5.0",
      "model_name": "HTMLModel",
      "state": {
       "layout": "IPY_MODEL_1f781cf3d849415795fd67f88fea2c50",
       "style": "IPY_MODEL_763a89e008244cc788cc2d7cb75b1eaf",
       "value": " 0/8 [00:14&lt;?, ?it/s]"
      }
     },
     "3dba869cf01440b5a3f6110f1ca8412b": {
      "model_module": "@jupyter-widgets/controls",
      "model_module_version": "1.5.0",
      "model_name": "FloatProgressModel",
      "state": {
       "bar_style": "success",
       "description": "100%",
       "layout": "IPY_MODEL_43e0129b2cd84892ab4c36c578a61112",
       "max": 8,
       "style": "IPY_MODEL_2fc7ef48060347e3b12b1e2408089c49",
       "value": 8
      }
     },
     "43e0129b2cd84892ab4c36c578a61112": {
      "model_module": "@jupyter-widgets/base",
      "model_module_version": "1.2.0",
      "model_name": "LayoutModel",
      "state": {}
     },
     "453eb2adf94a40be9fa5154a636e2794": {
      "model_module": "@jupyter-widgets/controls",
      "model_module_version": "1.5.0",
      "model_name": "FloatProgressModel",
      "state": {
       "bar_style": "success",
       "description": "100%",
       "layout": "IPY_MODEL_1de5163de3d4477ba7f2c6ea6526292e",
       "max": 8,
       "style": "IPY_MODEL_561e1bb14a0b4c5cab9277bea94b4e9f",
       "value": 8
      }
     },
     "561e1bb14a0b4c5cab9277bea94b4e9f": {
      "model_module": "@jupyter-widgets/controls",
      "model_module_version": "1.5.0",
      "model_name": "ProgressStyleModel",
      "state": {
       "description_width": "initial"
      }
     },
     "59a3826f576e43c493ca33b66a97ebe3": {
      "model_module": "@jupyter-widgets/controls",
      "model_module_version": "1.5.0",
      "model_name": "HBoxModel",
      "state": {
       "children": [
        "IPY_MODEL_3dba869cf01440b5a3f6110f1ca8412b",
        "IPY_MODEL_9fa7b69a647a4bed8443d315b8205b06"
       ],
       "layout": "IPY_MODEL_90605d972bc846b4be811814c8ac6e8e"
      }
     },
     "5f77aaef47d5427bb90034ae942081d0": {
      "model_module": "@jupyter-widgets/base",
      "model_module_version": "1.2.0",
      "model_name": "LayoutModel",
      "state": {}
     },
     "60ca020b647c4802acce4273484e03a7": {
      "model_module": "@jupyter-widgets/controls",
      "model_module_version": "1.5.0",
      "model_name": "DescriptionStyleModel",
      "state": {
       "description_width": ""
      }
     },
     "67e78450b35e43d1a47f11db47403723": {
      "model_module": "@jupyter-widgets/controls",
      "model_module_version": "1.5.0",
      "model_name": "DescriptionStyleModel",
      "state": {
       "description_width": ""
      }
     },
     "763a89e008244cc788cc2d7cb75b1eaf": {
      "model_module": "@jupyter-widgets/controls",
      "model_module_version": "1.5.0",
      "model_name": "DescriptionStyleModel",
      "state": {
       "description_width": ""
      }
     },
     "795044504d5e4f3ea063bc95254ad326": {
      "model_module": "@jupyter-widgets/controls",
      "model_module_version": "1.5.0",
      "model_name": "FloatProgressModel",
      "state": {
       "bar_style": "danger",
       "description": "  0%",
       "layout": "IPY_MODEL_a92e198f641948438e3463a3cdbdc688",
       "max": 8,
       "style": "IPY_MODEL_11fe02e00e034e19b01d828e9938bfdf"
      }
     },
     "828e615152064277a79fa23a48e98926": {
      "model_module": "@jupyter-widgets/controls",
      "model_module_version": "1.5.0",
      "model_name": "HTMLModel",
      "state": {
       "layout": "IPY_MODEL_0525cdc0c9f74e798ca2b4d947e7d30e",
       "style": "IPY_MODEL_0af38e47ade24403aecc99febf8772f5",
       "value": " 8/8 [00:15&lt;00:00,  1.88s/it]"
      }
     },
     "90605d972bc846b4be811814c8ac6e8e": {
      "model_module": "@jupyter-widgets/base",
      "model_module_version": "1.2.0",
      "model_name": "LayoutModel",
      "state": {}
     },
     "9444c43ece1a49da861c3e68a204236b": {
      "model_module": "@jupyter-widgets/base",
      "model_module_version": "1.2.0",
      "model_name": "LayoutModel",
      "state": {}
     },
     "9f78fc5e04fd4c40851338a7bf358de8": {
      "model_module": "@jupyter-widgets/controls",
      "model_module_version": "1.5.0",
      "model_name": "HBoxModel",
      "state": {
       "children": [
        "IPY_MODEL_e0d3e92d3f4643a9894b4f105d56d602",
        "IPY_MODEL_b419dd22045e4e1a89a24934de4daa53"
       ],
       "layout": "IPY_MODEL_17036b0407ef461394c6ffbd89229665"
      }
     },
     "9fa7b69a647a4bed8443d315b8205b06": {
      "model_module": "@jupyter-widgets/controls",
      "model_module_version": "1.5.0",
      "model_name": "HTMLModel",
      "state": {
       "layout": "IPY_MODEL_0f834db01b0b47689cbbf9bc32985f08",
       "style": "IPY_MODEL_67e78450b35e43d1a47f11db47403723",
       "value": " 8/8 [04:54&lt;00:00, 36.75s/it]"
      }
     },
     "a00c675cc3fd41ed974f7975af2c8e93": {
      "model_module": "@jupyter-widgets/controls",
      "model_module_version": "1.5.0",
      "model_name": "HBoxModel",
      "state": {
       "children": [
        "IPY_MODEL_a447726b984141eea793ebb2fb7251e3",
        "IPY_MODEL_828e615152064277a79fa23a48e98926"
       ],
       "layout": "IPY_MODEL_bd431cad79cf4bd799f32eb8cb1d684c"
      }
     },
     "a204dcfdcdc540a7a535aeff7be022a8": {
      "model_module": "@jupyter-widgets/controls",
      "model_module_version": "1.5.0",
      "model_name": "HBoxModel",
      "state": {
       "children": [
        "IPY_MODEL_453eb2adf94a40be9fa5154a636e2794",
        "IPY_MODEL_fbaea8a6fc164784a5733863d590fc23"
       ],
       "layout": "IPY_MODEL_eb3e8801eea34a6cb41fb86692164fc1"
      }
     },
     "a447726b984141eea793ebb2fb7251e3": {
      "model_module": "@jupyter-widgets/controls",
      "model_module_version": "1.5.0",
      "model_name": "FloatProgressModel",
      "state": {
       "bar_style": "success",
       "description": "100%",
       "layout": "IPY_MODEL_319681983fb849f49b1704dba8a2bc93",
       "max": 8,
       "style": "IPY_MODEL_ab58416a6abf419b8cfd98600846cd05",
       "value": 8
      }
     },
     "a92e198f641948438e3463a3cdbdc688": {
      "model_module": "@jupyter-widgets/base",
      "model_module_version": "1.2.0",
      "model_name": "LayoutModel",
      "state": {}
     },
     "ab58416a6abf419b8cfd98600846cd05": {
      "model_module": "@jupyter-widgets/controls",
      "model_module_version": "1.5.0",
      "model_name": "ProgressStyleModel",
      "state": {
       "description_width": "initial"
      }
     },
     "b24ea15a54464dcf9bc6b49a213c28d9": {
      "model_module": "@jupyter-widgets/base",
      "model_module_version": "1.2.0",
      "model_name": "LayoutModel",
      "state": {}
     },
     "b419dd22045e4e1a89a24934de4daa53": {
      "model_module": "@jupyter-widgets/controls",
      "model_module_version": "1.5.0",
      "model_name": "HTMLModel",
      "state": {
       "layout": "IPY_MODEL_fb232087953440af8b4535407d7165e7",
       "style": "IPY_MODEL_60ca020b647c4802acce4273484e03a7",
       "value": " 8/8 [00:05&lt;00:00,  1.53it/s]"
      }
     },
     "bd431cad79cf4bd799f32eb8cb1d684c": {
      "model_module": "@jupyter-widgets/base",
      "model_module_version": "1.2.0",
      "model_name": "LayoutModel",
      "state": {}
     },
     "d21e5d47ae8345df9ef1d176de49e0a8": {
      "model_module": "@jupyter-widgets/controls",
      "model_module_version": "1.5.0",
      "model_name": "HBoxModel",
      "state": {
       "children": [
        "IPY_MODEL_795044504d5e4f3ea063bc95254ad326",
        "IPY_MODEL_37f69b68442848178c9fabf3b78dc524"
       ],
       "layout": "IPY_MODEL_b24ea15a54464dcf9bc6b49a213c28d9"
      }
     },
     "e0d3e92d3f4643a9894b4f105d56d602": {
      "model_module": "@jupyter-widgets/controls",
      "model_module_version": "1.5.0",
      "model_name": "FloatProgressModel",
      "state": {
       "bar_style": "success",
       "description": "100%",
       "layout": "IPY_MODEL_9444c43ece1a49da861c3e68a204236b",
       "max": 8,
       "style": "IPY_MODEL_143b7e1fea034985b23e8d655f06c8c3",
       "value": 8
      }
     },
     "eb3e8801eea34a6cb41fb86692164fc1": {
      "model_module": "@jupyter-widgets/base",
      "model_module_version": "1.2.0",
      "model_name": "LayoutModel",
      "state": {}
     },
     "fb232087953440af8b4535407d7165e7": {
      "model_module": "@jupyter-widgets/base",
      "model_module_version": "1.2.0",
      "model_name": "LayoutModel",
      "state": {}
     },
     "fbaea8a6fc164784a5733863d590fc23": {
      "model_module": "@jupyter-widgets/controls",
      "model_module_version": "1.5.0",
      "model_name": "HTMLModel",
      "state": {
       "layout": "IPY_MODEL_5f77aaef47d5427bb90034ae942081d0",
       "style": "IPY_MODEL_22ba72b91237446ab2f7c95b9c487e39",
       "value": " 8/8 [00:00&lt;00:00, 16.74it/s]"
      }
     }
    },
    "version_major": 2,
    "version_minor": 0
   }
  }
 },
 "nbformat": 4,
 "nbformat_minor": 4
}
